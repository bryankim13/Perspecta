{
 "cells": [
  {
   "cell_type": "code",
   "execution_count": 53,
   "metadata": {},
   "outputs": [],
   "source": [
    "from pandas import read_csv, concat\n",
    "from pandas import Series\n",
    "from numpy import array\n",
    "from numpy import arange, asarray\n",
    "from matplotlib import pyplot\n",
    "import itertools\n",
    "\n",
    "from sklearn.model_selection import cross_val_score\n",
    "from sklearn.pipeline import Pipeline\n",
    "from sklearn.preprocessing import StandardScaler\n",
    "from numpy import mean\n",
    "from numpy import std\n",
    "from sklearn.svm import SVC\n",
    "from sklearn.neighbors import KNeighborsClassifier\n",
    "from sklearn.ensemble import RandomForestClassifier\n",
    "from sklearn.metrics import accuracy_score, f1_score, precision_score\n",
    "from sklearn.metrics import confusion_matrix\n",
    "from sklearn.utils import resample"
   ]
  },
  {
   "cell_type": "code",
   "execution_count": 54,
   "metadata": {},
   "outputs": [],
   "source": [
    "def detrend(lists): \n",
    "    newL = list()\n",
    "    for i in range(lists.count()):\n",
    "        if(i == 0):\n",
    "            continue\n",
    "        else: \n",
    "            newL.append(lists[i]-lists[i-1])\n",
    "    newA = array(newL)\n",
    "    return newA"
   ]
  },
  {
   "cell_type": "code",
   "execution_count": 55,
   "metadata": {},
   "outputs": [],
   "source": [
    "def createData(lis):\n",
    "    transform = list()\n",
    "    for index, row in lis.iterrows():\n",
    "        transform.append(detrend(row))\n",
    "        #transform.append(row)\n",
    "    return transform"
   ]
  },
  {
   "cell_type": "code",
   "execution_count": 56,
   "metadata": {},
   "outputs": [],
   "source": [
    "df = read_csv('mitbih_train.csv', header = None)\n",
    "dfTest = read_csv('mitbih_test.csv', header = None)"
   ]
  },
  {
   "cell_type": "code",
   "execution_count": 57,
   "metadata": {},
   "outputs": [],
   "source": [
    "distribution = df[187].value_counts()"
   ]
  },
  {
   "cell_type": "markdown",
   "metadata": {},
   "source": [
    "Create visualization"
   ]
  },
  {
   "cell_type": "code",
   "execution_count": 58,
   "metadata": {},
   "outputs": [
    {
     "data": {
      "text/plain": [
       "<BarContainer object of 5 artists>"
      ]
     },
     "execution_count": 58,
     "metadata": {},
     "output_type": "execute_result"
    },
    {
     "data": {
      "image/png": "[encoded data removed]",
      "text/plain": [
       "<Figure size 432x288 with 1 Axes>"
      ]
     },
     "metadata": {
      "needs_background": "light"
     },
     "output_type": "display_data"
    }
   ],
   "source": [
    "name = ['n','q','v','s','f']\n",
    "pyplot.bar(name,distribution)"
   ]
  },
  {
   "cell_type": "markdown",
   "metadata": {},
   "source": [
    "Distribution is heavily disproportionate"
   ]
  },
  {
   "cell_type": "code",
   "execution_count": 59,
   "metadata": {},
   "outputs": [],
   "source": [
    "df0 = df[df[187]==0].sample(10000, random_state = 100)\n",
    "df1 = df[df[187]==1]\n",
    "df2 = df[df[187]==2]\n",
    "df3 = df[df[187]==3]\n",
    "df4 = df[df[187]==4]\n",
    "df1OS = resample(df1, replace = True, n_samples = 10000, random_state = 110)\n",
    "df2OS = resample(df2, replace = True, n_samples = 10000, random_state = 120)\n",
    "df3OS = resample(df3, replace = True, n_samples = 10000, random_state = 130)\n",
    "df4OS = resample(df4, replace = True, n_samples = 10000, random_state = 140)"
   ]
  },
  {
   "cell_type": "code",
   "execution_count": 60,
   "metadata": {},
   "outputs": [
    {
     "data": {
      "text/plain": [
       "(10000, 188)"
      ]
     },
     "execution_count": 60,
     "metadata": {},
     "output_type": "execute_result"
    }
   ],
   "source": [
    "df0.shape"
   ]
  },
  {
   "cell_type": "code",
   "execution_count": 61,
   "metadata": {},
   "outputs": [],
   "source": [
    "dfTotal = concat([df0,df1OS,df2OS,df3OS,df4OS])"
   ]
  },
  {
   "cell_type": "code",
   "execution_count": 62,
   "metadata": {},
   "outputs": [],
   "source": [
    "from pandas import DataFrame\n",
    "x = dfTotal.values\n",
    "dfTotal = DataFrame(x)"
   ]
  },
  {
   "cell_type": "markdown",
   "metadata": {},
   "source": [
    "Shuffling Data"
   ]
  },
  {
   "cell_type": "code",
   "execution_count": 63,
   "metadata": {},
   "outputs": [
    {
     "data": {
      "text/plain": [
       "3.0    10000\n",
       "4.0    10000\n",
       "2.0    10000\n",
       "1.0    10000\n",
       "0.0    10000\n",
       "Name: 187, dtype: int64"
      ]
     },
     "execution_count": 63,
     "metadata": {},
     "output_type": "execute_result"
    }
   ],
   "source": [
    "dfTotal[187].value_counts()"
   ]
  },
  {
   "cell_type": "code",
   "execution_count": 64,
   "metadata": {},
   "outputs": [
    {
     "data": {
      "text/plain": [
       "(50000, 188)"
      ]
     },
     "execution_count": 64,
     "metadata": {},
     "output_type": "execute_result"
    }
   ],
   "source": [
    "dfTotal=dfTotal.sample(frac = 1)\n",
    "dfTotal.shape"
   ]
  },
  {
   "cell_type": "markdown",
   "metadata": {},
   "source": [
    "Now data is now same size"
   ]
  },
  {
   "cell_type": "code",
   "execution_count": 65,
   "metadata": {},
   "outputs": [
    {
     "data": {
      "text/plain": [
       "<BarContainer object of 5 artists>"
      ]
     },
     "execution_count": 65,
     "metadata": {},
     "output_type": "execute_result"
    },
    {
     "data": {
      "image/png": "[encoded data removed]",
      "text/plain": [
       "<Figure size 432x288 with 1 Axes>"
      ]
     },
     "metadata": {
      "needs_background": "light"
     },
     "output_type": "display_data"
    }
   ],
   "source": [
    "distribution = dfTotal[187].value_counts()\n",
    "pyplot.bar(name,distribution)"
   ]
  },
  {
   "cell_type": "markdown",
   "metadata": {},
   "source": [
    "Splitting data for train and testing"
   ]
  },
  {
   "cell_type": "code",
   "execution_count": 66,
   "metadata": {},
   "outputs": [],
   "source": [
    "# trainX = dfTotal.iloc[:,dfTotal.columns!=187]\n",
    "# trainX = createData(trainX)\n",
    "# trainY = dfTotal.iloc[:,dfTotal.columns==187]\n",
    "trainX = dfTotal.iloc[:,dfTotal.columns!=187]\n",
    "trainY = dfTotal.iloc[:,dfTotal.columns==187]\n"
   ]
  },
  {
   "cell_type": "code",
   "execution_count": 67,
   "metadata": {},
   "outputs": [],
   "source": [
    "testX = dfTest.iloc[:,dfTest.columns != 187]\n",
    "#testX = createData(testX)\n",
    "testY = dfTest.iloc[:,dfTest.columns == 187]"
   ]
  },
  {
   "cell_type": "code",
   "execution_count": 138,
   "metadata": {},
   "outputs": [],
   "source": [
    "# pyplot.plot(trainX[0])\n",
    "# pyplot.show()\n",
    "# pyplot.plot(trainX[5002])\n",
    "# pyplot.show()\n",
    "# pyplot.plot(trainX[10010])\n",
    "# pyplot.show()\n",
    "# pyplot.plot(trainX[15300])\n",
    "# pyplot.show()\n",
    "# pyplot.plot(trainX[24999])\n",
    "# pyplot.show()"
   ]
  },
  {
   "cell_type": "code",
   "execution_count": null,
   "metadata": {},
   "outputs": [],
   "source": [
    "asarray(trainY)[0]"
   ]
  },
  {
   "cell_type": "code",
   "execution_count": 32,
   "metadata": {},
   "outputs": [
    {
     "name": "stdout",
     "output_type": "stream",
     "text": [
      "KNN 92.792% +/-0.462\n",
      "RF 97.760% +/-0.269\n",
      "SVM 90.556% +/-0.437\n"
     ]
    },
    {
     "data": {
      "image/png": "[encoded data removed]",
      "text/plain": [
       "<Figure size 432x288 with 1 Axes>"
      ]
     },
     "metadata": {
      "needs_background": "light"
     },
     "output_type": "display_data"
    }
   ],
   "source": [
    "models = list()\n",
    "names = list()\n",
    "models.append(KNeighborsClassifier())\n",
    "names.append(\"KNN\")\n",
    "models.append(RandomForestClassifier())\n",
    "names.append(\"RF\")\n",
    "models.append(SVC())\n",
    "names.append('SVM')\n",
    "allscores = list()\n",
    "for i in range(len(models)):\n",
    "    s = StandardScaler()\n",
    "    p = Pipeline(steps=[('s',s), ('m' , models[i])])\n",
    "    scores = cross_val_score(p, trainX, trainY, scoring='accuracy', cv=5, n_jobs=-1)\n",
    "    allscores.append(scores)\n",
    "    m,s = mean(scores)*100, std(scores)*100\n",
    "    print('%s %.3f%% +/-%.3f' % (names[i], m, s))\n",
    "pyplot.boxplot(allscores,labels = names)\n",
    "pyplot.show()"
   ]
  },
  {
   "cell_type": "code",
   "execution_count": 2,
   "metadata": {},
   "outputs": [
    {
     "ename": "IndentationError",
     "evalue": "unindent does not match any outer indentation level (<tokenize>, line 27)",
     "output_type": "error",
     "traceback": [
      "\u001b[0;36m  File \u001b[0;32m\"<tokenize>\"\u001b[0;36m, line \u001b[0;32m27\u001b[0m\n\u001b[0;31m    print()\u001b[0m\n\u001b[0m    ^\u001b[0m\n\u001b[0;31mIndentationError\u001b[0m\u001b[0;31m:\u001b[0m unindent does not match any outer indentation level\n"
     ]
    }
   ],
   "source": [
    "# evaluate models\n",
    "all_scores = list()\n",
    "for i in range(len(models)):\n",
    "\t# create a pipeline for the model\n",
    "\tscaler = StandardScaler()\n",
    "\tmodel = Pipeline(steps=[('s',scaler), ('m',models[i])])\n",
    "\t# fit\n",
    "\t# model = models[i]\n",
    "# \tmodel.fit(sequencesTrain, targetTrain)\n",
    "# \t# predict\n",
    "# \tyhat = model.predict(sequences1)\n",
    "# \t# evaluate\n",
    "# \tscore = f1_score(target1, yhat, average = 'macro') * 100\n",
    "    #score = accuracy_score(target1,yhat)*100\n",
    "    \n",
    "\tmodel.fit(trainX, trainY) #Swapped the training and testing, resulted in better f1 score but take note \n",
    "    #more data trained is usually better\n",
    "\t# predict\n",
    "\tyhat = model.predict(testX)\n",
    "\t# evaluate\n",
    "\tscore = f1_score(testY, yhat, average = 'macro') * 100\n",
    "\tprint(confusion_matrix(testY, yhat))\n",
    "\n",
    "    \n",
    "\tall_scores.append(score)\n",
    "\t# summarize\n",
    "\tprint('%s %.3f%%' % (names[i], score))\n",
    "# plot\n",
    "pyplot.bar(names, all_scores)\n",
    "pyplot.show()"
   ]
  },
  {
   "cell_type": "code",
   "execution_count": 68,
   "metadata": {},
   "outputs": [
    {
     "name": "stdout",
     "output_type": "stream",
     "text": [
      "Train on 40000 samples, validate on 10000 samples\n",
      "Epoch 1/10\n",
      "40000/40000 [==============================] - 4s 109us/step - loss: 0.5676 - accuracy: 0.7934 - val_loss: 0.4152 - val_accuracy: 0.8458\n",
      "Epoch 2/10\n",
      "40000/40000 [==============================] - 4s 96us/step - loss: 0.3434 - accuracy: 0.8728 - val_loss: 0.2966 - val_accuracy: 0.8939\n",
      "Epoch 3/10\n",
      "40000/40000 [==============================] - 4s 97us/step - loss: 0.2779 - accuracy: 0.8983 - val_loss: 0.2725 - val_accuracy: 0.8996\n",
      "Epoch 4/10\n",
      "40000/40000 [==============================] - 4s 96us/step - loss: 0.2367 - accuracy: 0.9132 - val_loss: 0.2246 - val_accuracy: 0.9240\n",
      "Epoch 5/10\n",
      "40000/40000 [==============================] - 4s 97us/step - loss: 0.2074 - accuracy: 0.9237 - val_loss: 0.2195 - val_accuracy: 0.9223\n",
      "Epoch 6/10\n",
      "40000/40000 [==============================] - 4s 98us/step - loss: 0.1863 - accuracy: 0.9324 - val_loss: 0.1871 - val_accuracy: 0.9373\n",
      "Epoch 7/10\n",
      "40000/40000 [==============================] - 4s 103us/step - loss: 0.1675 - accuracy: 0.9395 - val_loss: 0.1999 - val_accuracy: 0.9336\n",
      "Epoch 8/10\n",
      "40000/40000 [==============================] - 4s 98us/step - loss: 0.1523 - accuracy: 0.9460 - val_loss: 0.1712 - val_accuracy: 0.9444\n",
      "Epoch 9/10\n",
      "40000/40000 [==============================] - 4s 99us/step - loss: 0.1408 - accuracy: 0.9513 - val_loss: 0.1549 - val_accuracy: 0.9518\n",
      "Epoch 10/10\n",
      "40000/40000 [==============================] - 4s 99us/step - loss: 0.1274 - accuracy: 0.9563 - val_loss: 0.1585 - val_accuracy: 0.9515\n"
     ]
    },
    {
     "data": {
      "text/plain": [
       "<keras.callbacks.callbacks.History at 0x7fb11901df50>"
      ]
     },
     "execution_count": 68,
     "metadata": {},
     "output_type": "execute_result"
    }
   ],
   "source": [
    "import matplotlib.pyplot as plt\n",
    "from keras.models import Sequential\n",
    "from keras.layers import Dense, Dropout\n",
    "from keras.activations import relu, softmax, sigmoid\n",
    "\n",
    "model = Sequential()\n",
    "model.add(Dense(100,activation=relu))\n",
    "model.add(Dense(70,activation=relu))\n",
    "model.add(Dense(5,activation=softmax))\n",
    "model.compile(optimizer = 'adam', loss = 'sparse_categorical_crossentropy',metrics = ['accuracy'])\n",
    "# xTrain = array(xTrain)\n",
    "# yTrain = array(yTrain)\n",
    "# xTest = array(xTest)\n",
    "# yTest = array(yTest)\n",
    "model.fit(asarray(trainX),asarray(trainY), epochs = 10, validation_split = .2)"
   ]
  },
  {
   "cell_type": "code",
   "execution_count": 69,
   "metadata": {},
   "outputs": [],
   "source": [
    "pred = model.predict(asarray(testX),verbose =0)\n",
    "predC = model.predict_classes(asarray(testX),verbose =0)"
   ]
  },
  {
   "cell_type": "code",
   "execution_count": 70,
   "metadata": {},
   "outputs": [
    {
     "name": "stdout",
     "output_type": "stream",
     "text": [
      "[[16537   840   261   358   122]\n",
      " [   76   460     6     9     5]\n",
      " [   35    26  1299    80     8]\n",
      " [    6     0     5   151     0]\n",
      " [   20     6    11     2  1569]]\n",
      "91.43065960168097\n"
     ]
    }
   ],
   "source": [
    "from sklearn.metrics import confusion_matrix\n",
    "cm = confusion_matrix(testY, predC)\n",
    "print(cm)\n",
    "\n",
    "score = accuracy_score(testY, predC) * 100\n",
    "print(score)"
   ]
  },
  {
   "cell_type": "code",
   "execution_count": 37,
   "metadata": {},
   "outputs": [],
   "source": [
    "from numpy import newaxis\n",
    "def plot_confusion_matrix(cm, classes,\n",
    "                        normalize=False,\n",
    "                        title='Confusion matrix',\n",
    "                        cmap=plt.cm.Blues):\n",
    "    \"\"\"\n",
    "    This function prints and plots the confusion matrix.\n",
    "    Normalization can be applied by setting `normalize=True`.\n",
    "    \"\"\"\n",
    "    plt.imshow(cm, interpolation='nearest', cmap=cmap)\n",
    "    plt.title(title)\n",
    "    plt.colorbar()\n",
    "    tick_marks = arange(len(classes))\n",
    "    plt.xticks(tick_marks, classes, rotation=45)\n",
    "    plt.yticks(tick_marks, classes)\n",
    "\n",
    "    if normalize:\n",
    "        cm = cm.astype('float') / cm.sum(axis=1)[:, newaxis]\n",
    "        print(\"Normalized confusion matrix\")\n",
    "    else:\n",
    "        print('Confusion matrix, without normalization')\n",
    "\n",
    "    print(cm)\n",
    "\n",
    "    thresh = cm.max() / 2.\n",
    "    for i, j in itertools.product(range(cm.shape[0]), range(cm.shape[1])):\n",
    "        plt.text(j, i, cm[i, j],\n",
    "            horizontalalignment=\"center\",\n",
    "            color=\"white\" if cm[i, j] > thresh else \"black\")\n",
    "\n",
    "    plt.tight_layout()\n",
    "    plt.ylabel('True label')\n",
    "    plt.xlabel('Predicted label')"
   ]
  },
  {
   "cell_type": "code",
   "execution_count": 38,
   "metadata": {},
   "outputs": [
    {
     "name": "stdout",
     "output_type": "stream",
     "text": [
      "Confusion matrix, without normalization\n",
      "[[16077  1106   309   550    76]\n",
      " [   88   447    11     8     2]\n",
      " [   49    39  1287    65     8]\n",
      " [    6     1     7   148     0]\n",
      " [   50     8    18     2  1530]]\n"
     ]
    },
    {
     "data": {
      "image/png": "[encoded data removed]",
      "text/plain": [
       "<Figure size 432x288 with 2 Axes>"
      ]
     },
     "metadata": {
      "needs_background": "light"
     },
     "output_type": "display_data"
    }
   ],
   "source": [
    "plot_confusion_matrix(cm=cm,classes=['N', 'S', 'V', 'F', 'Q'], title = \"Confusion Matrix\")"
   ]
  },
  {
   "cell_type": "code",
   "execution_count": 52,
   "metadata": {},
   "outputs": [
    {
     "name": "stdout",
     "output_type": "stream",
     "text": [
      "[0]\n"
     ]
    }
   ],
   "source": [
    "predC = model.predict_classes(testX.iloc[[7]],verbose =0)\n",
    "print(predC)"
   ]
  },
  {
   "cell_type": "code",
   "execution_count": 46,
   "metadata": {},
   "outputs": [
    {
     "data": {
      "text/html": [
       "<div>\n",
       "<style scoped>\n",
       "    .dataframe tbody tr th:only-of-type {\n",
       "        vertical-align: middle;\n",
       "    }\n",
       "\n",
       "    .dataframe tbody tr th {\n",
       "        vertical-align: top;\n",
       "    }\n",
       "\n",
       "    .dataframe thead th {\n",
       "        text-align: right;\n",
       "    }\n",
       "</style>\n",
       "<table border=\"1\" class=\"dataframe\">\n",
       "  <thead>\n",
       "    <tr style=\"text-align: right;\">\n",
       "      <th></th>\n",
       "      <th>187</th>\n",
       "    </tr>\n",
       "  </thead>\n",
       "  <tbody>\n",
       "    <tr>\n",
       "      <th>0</th>\n",
       "      <td>0.0</td>\n",
       "    </tr>\n",
       "    <tr>\n",
       "      <th>1</th>\n",
       "      <td>0.0</td>\n",
       "    </tr>\n",
       "    <tr>\n",
       "      <th>2</th>\n",
       "      <td>0.0</td>\n",
       "    </tr>\n",
       "    <tr>\n",
       "      <th>3</th>\n",
       "      <td>0.0</td>\n",
       "    </tr>\n",
       "    <tr>\n",
       "      <th>4</th>\n",
       "      <td>0.0</td>\n",
       "    </tr>\n",
       "    <tr>\n",
       "      <th>...</th>\n",
       "      <td>...</td>\n",
       "    </tr>\n",
       "    <tr>\n",
       "      <th>21887</th>\n",
       "      <td>4.0</td>\n",
       "    </tr>\n",
       "    <tr>\n",
       "      <th>21888</th>\n",
       "      <td>4.0</td>\n",
       "    </tr>\n",
       "    <tr>\n",
       "      <th>21889</th>\n",
       "      <td>4.0</td>\n",
       "    </tr>\n",
       "    <tr>\n",
       "      <th>21890</th>\n",
       "      <td>4.0</td>\n",
       "    </tr>\n",
       "    <tr>\n",
       "      <th>21891</th>\n",
       "      <td>4.0</td>\n",
       "    </tr>\n",
       "  </tbody>\n",
       "</table>\n",
       "<p>21892 rows × 1 columns</p>\n",
       "</div>"
      ],
      "text/plain": [
       "       187\n",
       "0      0.0\n",
       "1      0.0\n",
       "2      0.0\n",
       "3      0.0\n",
       "4      0.0\n",
       "...    ...\n",
       "21887  4.0\n",
       "21888  4.0\n",
       "21889  4.0\n",
       "21890  4.0\n",
       "21891  4.0\n",
       "\n",
       "[21892 rows x 1 columns]"
      ]
     },
     "execution_count": 46,
     "metadata": {},
     "output_type": "execute_result"
    }
   ],
   "source": [
    "testY"
   ]
  },
  {
   "cell_type": "code",
   "execution_count": 78,
   "metadata": {},
   "outputs": [
    {
     "data": {
      "text/plain": [
       "(25000, 1)"
      ]
     },
     "execution_count": 78,
     "metadata": {},
     "output_type": "execute_result"
    }
   ],
   "source": [
    "trainX = asarray(trainX).reshape(asarray(trainX).shape[0],asarray(trainX).shape[1],1)\n",
    "trainY.shape"
   ]
  },
  {
   "cell_type": "code",
   "execution_count": 25,
   "metadata": {
    "scrolled": true
   },
   "outputs": [],
   "source": [
    "# from keras.layers import LSTM\n",
    "# model = Sequential()\n",
    "# model.add(LSTM(100, activation = relu,input_shape = (186,1)))\n",
    "# model.add(Dropout(.5))\n",
    "# model.add(Dense(5, activation = softmax))\n",
    "# model.compile(optimizer = 'adam', loss = 'sparse_categorical_crossentropy',metrics = ['accuracy'])\n",
    "\n",
    "# model.fit(trainX,trainY, epochs = 3, batch_size = 200)"
   ]
  }
 ],
 "metadata": {
  "kernelspec": {
   "display_name": "Python 3",
   "language": "python",
   "name": "python3"
  },
  "language_info": {
   "codemirror_mode": {
    "name": "ipython",
    "version": 3
   },
   "file_extension": ".py",
   "mimetype": "text/x-python",
   "name": "python",
   "nbconvert_exporter": "python",
   "pygments_lexer": "ipython3",
   "version": "3.7.6"
  }
 },
 "nbformat": 4,
 "nbformat_minor": 4
}
